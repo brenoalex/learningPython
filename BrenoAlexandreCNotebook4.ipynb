{
  "nbformat": 4,
  "nbformat_minor": 0,
  "metadata": {
    "colab": {
      "name": "BrenoAlexandreCNotebook4.ipynb",
      "provenance": [],
      "collapsed_sections": [],
      "authorship_tag": "ABX9TyPxvvUdOpzkVtyrnmhxBcER",
      "include_colab_link": true
    },
    "kernelspec": {
      "name": "python3",
      "display_name": "Python 3"
    },
    "language_info": {
      "name": "python"
    }
  },
  "cells": [
    {
      "cell_type": "markdown",
      "metadata": {
        "id": "view-in-github",
        "colab_type": "text"
      },
      "source": [
        "<a href=\"https://colab.research.google.com/github/brenoalex/learningPython/blob/main/BrenoAlexandreCNotebook4.ipynb\" target=\"_parent\"><img src=\"https://colab.research.google.com/assets/colab-badge.svg\" alt=\"Open In Colab\"/></a>"
      ]
    },
    {
      "cell_type": "code",
      "execution_count": null,
      "metadata": {
        "colab": {
          "base_uri": "https://localhost:8080/"
        },
        "id": "kyoV9qFquQzi",
        "outputId": "12b4bda1-7c05-4c17-99ff-cfa9ed2f78aa"
      },
      "outputs": [
        {
          "output_type": "stream",
          "name": "stdout",
          "text": [
            "Insira o tamanho do triângulo: 5\n",
            "\n",
            "\n",
            "1\n",
            "22\n",
            "333\n",
            "4444\n",
            "55555"
          ]
        }
      ],
      "source": [
        "#1. Faça um programa para imprimir:\n",
        "#    1\n",
        "#    2   2\n",
        "#    3   3   3\n",
        "#    .....\n",
        "#    n   n   n   n   n   n  ... n\n",
        "\n",
        "print(\"################ TRIÂNGULO DE NUMEROS ################\")\n",
        "tamanho = int(input(\"Insira o tamanho do triângulo: \"))\n",
        "\n",
        "for i in range(tamanho + 1):\n",
        "  print(\"\")\n",
        "  for j in range(i):\n",
        "    print(i,end=\"\")\n",
        "\n"
      ]
    },
    {
      "cell_type": "code",
      "source": [
        "#2. Faça um programa para imprimir:\n",
        "#    1\n",
        "#    1   2\n",
        "#    1   2   3\n",
        "#    .....\n",
        "#    1   2   3   ...  n\n",
        "\n",
        "print(\"################ TRIÂNGULO DE NUMEROS ################\")\n",
        "tamanho = int(input(\"Insira o tamanho do triângulo: \"))\n",
        "\n",
        "for i in range(tamanho + 1):\n",
        "  print(\"\")\n",
        "  for j in range(i):\n",
        "    print((j+1),end=\"\")\n"
      ],
      "metadata": {
        "colab": {
          "base_uri": "https://localhost:8080/"
        },
        "id": "8gpHyYdKvTpq",
        "outputId": "25e8653b-3a2e-48c0-f39e-1de81c0a4ed4"
      },
      "execution_count": null,
      "outputs": [
        {
          "output_type": "stream",
          "name": "stdout",
          "text": [
            "################ TRIÂNGULO DE NUMEROS ################\n",
            "Insira o tamanho do triângulo: 10\n",
            "\n",
            "\n",
            "1\n",
            "12\n",
            "123\n",
            "1234\n",
            "12345\n",
            "123456\n",
            "1234567\n",
            "12345678\n",
            "123456789\n",
            "12345678910"
          ]
        }
      ]
    },
    {
      "cell_type": "code",
      "source": [
        "#3. Faça uma função que receba um valor inteiro e positivo e calcule o seu fatorial.\n",
        "\n",
        "def fatorial (numero:int) -> int:\n",
        "    if(numero == 0 or numero == 1):\n",
        "      return 1\n",
        "    else:\n",
        "      return numero*fatorial(numero-1)\n",
        "\n",
        "print(\"##################### CALCULA FATORIAL ######################\")\n",
        "cond_parada = True\n",
        "while(cond_parada):\n",
        "    try:\n",
        "      numero = int(input(\"Insira um número inteiro e positivo: \"))\n",
        "      if(numero < 0):\n",
        "        print(\"Não foi inserido um número inteiro e positivo. Tente novamente.\")\n",
        "      else:\n",
        "        cond_parada = False\n",
        "    except:\n",
        "      print(\"Não foi inserido um número inteiro e positivo. Tente novamente.\")\n",
        "\n",
        "print(f\"O fatorial de {numero} é: {fatorial(numero)}\")\n",
        "  "
      ],
      "metadata": {
        "colab": {
          "base_uri": "https://localhost:8080/"
        },
        "id": "4wOawl0PvqOx",
        "outputId": "e8d03213-4c2a-4caf-a48e-01f2fbbe13b5"
      },
      "execution_count": null,
      "outputs": [
        {
          "output_type": "stream",
          "name": "stdout",
          "text": [
            "##################### CALCULA FATORIAL ######################\n",
            "Insira um número inteiro e positivo: 20\n",
            "O fatorial de 20 é: 2432902008176640000\n"
          ]
        }
      ]
    },
    {
      "cell_type": "code",
      "source": [
        "#4. Faça um programa com uma função chamada soma_imposto. A função possui dois parâmetros formais: taxa_imposto,\n",
        "#que é a quantia de imposto sobre vendas expressa em porcentagem e custo, que é o custo de um item antes do imposto.\n",
        "#A função “altera” o valor de custo para incluir o imposto sobre vendas.\n",
        "\n",
        "def soma_imposto(taxa_imposto:int, custo:int) -> float:\n",
        "  return round((1 +taxa_imposto/100)*custo,2)\n",
        "\n",
        "print(\"############### CALCULADOR DE IMPOSTO ###############\")\n",
        "taxa_imposto = int(input(\"Informe a porcentagem de taxa de imposto (somente número): \"))\n",
        "custo = float(input(\"Informe o custo do item: \"))\n",
        "print(f\"\\nO custo com a taxa de imposto imbutida é: {soma_imposto(taxa_imposto,custo)}R$.\")"
      ],
      "metadata": {
        "colab": {
          "base_uri": "https://localhost:8080/"
        },
        "id": "4A-wpAz0zt2E",
        "outputId": "2803ae32-b134-49d4-8de8-3194d2f1e6b1"
      },
      "execution_count": null,
      "outputs": [
        {
          "output_type": "stream",
          "name": "stdout",
          "text": [
            "############### CALCULADOR DE IMPOSTO ###############\n",
            "Informe a porcentagem de taxa de imposto (somente número): 10\n",
            "Informe o custo do item: 100\n",
            "\n",
            "O custo com a taxa de imposto imbutida é: 110.0R$.\n"
          ]
        }
      ]
    },
    {
      "cell_type": "code",
      "source": [
        "#5. Um palíndromo é uma palavra que se soletra da mesma forma nos dois sentidos, como “osso” e “reviver”.\n",
        "#Escreva um função que dado uma palavra verifique se ela é um palíndromo.\n",
        "\n",
        "def checa_palindromo(frase:str) -> bool:\n",
        "  frase_invertida = frase[::-1]\n",
        "  if( frase.lower() == frase_invertida.lower() ):\n",
        "    return True\n",
        "  else:\n",
        "    return False\n",
        "\n",
        "\n",
        "frase = input(\"Insira uma frase e checarei se é palíndromo: \")\n",
        "if(checa_palindromo(frase)):\n",
        "  print(\"\\nA palavra é um palíndromo!\")\n",
        "else:\n",
        "  print(\"\\nA palavra NÃO é um palíndromo!\")\n",
        "\n"
      ],
      "metadata": {
        "colab": {
          "base_uri": "https://localhost:8080/"
        },
        "id": "Np8Ljjp2z3Tx",
        "outputId": "f3eaf6f3-3f4a-4b14-8177-ccdf7cccc647"
      },
      "execution_count": null,
      "outputs": [
        {
          "output_type": "stream",
          "name": "stdout",
          "text": [
            "Insira uma frase e checarei se é palíndromo: Casa\n",
            "\n",
            "A frase NÃO é um palíndromo!\n"
          ]
        }
      ]
    },
    {
      "cell_type": "code",
      "source": [
        "#6. Construa uma função que receba uma string como parâmetro e devolva outra string com os carateres embaralhados.\n",
        "#Por exemplo: se função receber a palavra python, pode retornar npthyo, ophtyn ou qualquer outra combinação possível, de forma aleatória.\n",
        "#Padronize em sua função que todos os caracteres serão devolvidos em caixa alta ou caixa baixa, independentemente de como foram digitados.\n",
        "\n",
        "from random import randint\n",
        "\n",
        "def transforma_em_lista(frase: str) -> list:\n",
        "  return list(frase)\n",
        "\n",
        "def embaralha_string(frase:list) -> str:\n",
        "  for _ in range(len(frase) + 5):\n",
        "    origem = randint(0,len(frase) - 1)\n",
        "    destino = randint(0,len(frase) - 1)\n",
        "    if( origem != destino ):\n",
        "      frase[origem], frase[destino] = frase[destino], frase[origem]\n",
        "  return frase\n",
        "\n",
        "def embaralha_minuscula_maiscula( frase: list ) -> list:\n",
        "  nova_frase = []\n",
        "  for n in frase:\n",
        "    if(randint(0,1) == 1):\n",
        "      nova_frase.append(n.upper())\n",
        "    else:\n",
        "      nova_frase.append(n.lower())\n",
        "  return nova_frase\n",
        "\n",
        "def transforma_em_string (lista: list ) -> str:\n",
        "  frase = \"\"\n",
        "  for n in lista:\n",
        "    frase += n\n",
        "  return frase\n",
        "\n",
        "print(\"############### EMBARALHADOR DE PALAVRAS ###############\")\n",
        "frase = input(\"Insira uma palavra:\")\n",
        "frase = transforma_em_lista(frase)\n",
        "frase = embaralha_string(frase)\n",
        "frase = embaralha_minuscula_maiscula(frase)\n",
        "frase = transforma_em_string(frase)\n",
        "\n",
        "print(f\"\\nA palavra embaralhada é: {frase}\")\n",
        "\n",
        "\n",
        "\n"
      ],
      "metadata": {
        "colab": {
          "base_uri": "https://localhost:8080/"
        },
        "id": "CUhRmnSR7Gnj",
        "outputId": "79c4c3fa-ef58-4d56-e6ba-4b1225f7efa2"
      },
      "execution_count": null,
      "outputs": [
        {
          "output_type": "stream",
          "name": "stdout",
          "text": [
            "############### EMBARALHADOR DE PALAVRAS ###############\n",
            "Insira uma palavra:MyleyCyrus\n",
            "\n",
            "A palavra embaralhada é: lucMyyrYse\n"
          ]
        }
      ]
    },
    {
      "cell_type": "code",
      "source": [
        "#7. Faça um programa que leia um arquivo texto contendo uma lista de endereços IP e gere um outro arquivo,\n",
        "#contendo um relatório dos endereços IP válidos e inválidos.\n",
        "#> Será considerado um IP válido quando nenhuma de suas partes ultrapassar o valor de 255.\n",
        "\n",
        "from google.colab import files\n",
        "import io\n",
        "from os import write\n",
        "\n",
        "def checa_ip (ip:str) -> bool:\n",
        "  valido = True\n",
        "  string = ip.split(\".\")\n",
        "  for n in string:\n",
        "    if( int(n) > 255 ):\n",
        "      valido = False\n",
        "  return valido\n",
        "\n",
        "#uploaded = files.upload()    (descomentar e upar o arquivo de entrada)\n",
        "lista_ips = []\n",
        "lista_ips_validos = []\n",
        "lista_ips_invalidos = []\n",
        "with open('Ips.txt', 'r') as arquivo:\n",
        "  for linha in arquivo:\n",
        "    lista_ips.append(linha)\n",
        "  pass\n",
        "\n",
        "for ip in lista_ips:\n",
        "  if(checa_ip(ip)):\n",
        "    lista_ips_validos.append(ip)\n",
        "  else:\n",
        "    lista_ips_invalidos.append(ip)\n",
        "\n",
        "arquivo = open('dados.txt', 'w')\n",
        "arquivo.write(\"[Endereços válidos:]\\n\")\n",
        "for ip in lista_ips_validos:\n",
        "  arquivo.write(ip)\n",
        "arquivo.write(\"\\n\")\n",
        "arquivo.write(\"[Endereços inválidos:]\\n\")\n",
        "for ip in lista_ips_invalidos:\n",
        "  arquivo.write(ip)\n",
        "arquivo.close()\n",
        "\n",
        "#apenas para conferência no console\n",
        "with open('dados.txt', 'r') as arquivo:\n",
        "  for linha in arquivo:\n",
        "    print(linha)\n",
        "  pass\n",
        "\n",
        "\n"
      ],
      "metadata": {
        "colab": {
          "base_uri": "https://localhost:8080/"
        },
        "id": "yTFiXbOBhFh7",
        "outputId": "fa6f7e18-2337-40eb-c55d-2d43ad0139e0"
      },
      "execution_count": null,
      "outputs": [
        {
          "output_type": "stream",
          "name": "stdout",
          "text": [
            "[Endereços válidos:]\n",
            "\n",
            "200.135.80.9\n",
            "\n",
            "192.168.1.1\n",
            "\n",
            "8.35.67.74\n",
            "\n",
            "1.2.3.4\n",
            "\n",
            "9.8.234.5\n",
            "\n",
            "\n",
            "\n",
            "[Endereços inválidos:]\n",
            "\n",
            "257.32.4.5\n",
            "\n",
            "85.345.1.2\n",
            "\n",
            "192.168.0.256\n"
          ]
        }
      ]
    },
    {
      "cell_type": "code",
      "source": [
        "#8. A ACME Inc., uma empresa de 500 funcionários, está tendo problemas de espaço em disco no seu servidor de arquivos. \n",
        "#Para tentar resolver este problema, o Administrador de Rede precisa saber qual o espaço ocupado pelos usuários, e identificar os usuários\n",
        "#com maior espaço ocupado. Através de um programa, baixado da Internet, ele conseguiu gerar o seguinte arquivo, com o nome dos usuários e seus\n",
        "#repectivos consumos em `Bytes` chamado \"usuarios.txt\":\n",
        "#\n",
        "#      alexandre       456123789\n",
        "#      anderson        1245698456\n",
        "#      antonio         123456456\n",
        "#      carlos          91257581\n",
        "#      cesar           987458\n",
        "#      rosemary        789456125\n",
        "\n",
        "#Neste arquivo, o nome do usuário possui 15 caracteres. A partir deste arquivo, você deve criar um programa que gere um relatório, chamado \"relatório.txt\", no seguinte formato:\n",
        "\n",
        "#    ACME Inc.       Uso do espaço em disco pelos usuários\n",
        "\n",
        "#    Nr.  Usuário        Espaço utilizado     % do uso\n",
        "\n",
        "#    1    alexandre       434,99 MB             16,85%\n",
        "#    2    anderson       1187,99 MB             46,02%\n",
        "#    3    antonio         117,73 MB              4,56%\n",
        "#    4    carlos           87,03 MB              3,37%\n",
        "#    5    cesar             0,94 MB              0,04%\n",
        "#    6    rosemary        752,88 MB             29,16%\n",
        "\n",
        "#    Espaço total ocupado: 2581,57 MB\n",
        "#    Espaço médio ocupado: 430,26 MB\n",
        "\n",
        "#O arquivo de entrada deve ser lido uma única vez, e os dados armazenados em memória, caso sejam necessários, \n",
        "#de forma a agilizar a execução do programa. A conversão de espaço ocupado em disco, de bytes para megabytes deverá ser feita através\n",
        "#de uma função separada, que será chamada pelo programa principal. O cálculo do percentual de uso também deverá ser feito\n",
        "#através de uma função, que será chamada pelo programa principal.\n",
        "\n",
        "\n",
        "from google.colab import files\n",
        "import io\n",
        "from os import write\n",
        "import sys\n",
        "\n",
        "def converte_para_megabytes(bytes:int) -> float:\n",
        "  megabytes = round(bytes/1048576,2)\n",
        "  return megabytes\n",
        "\n",
        "def calcula_espaco_total ( lista_funcionarios:list ) -> float:\n",
        "  i=0\n",
        "  espaco_total = 0\n",
        "  for funcionario in lista_funcionarios:\n",
        "    nova_lista = lista_funcionarios[i].split(\" \")\n",
        "    espaco_total +=  converte_para_megabytes(int(nova_lista[-1]))\n",
        "    i+=1\n",
        "  return round(espaco_total,2)\n",
        "\n",
        "def calcula_porcentagem_espaco ( tamanho, tamanho_total ):\n",
        "  return round((100*tamanho)/tamanho_total,2)\n",
        "\n",
        "def monta_dicionario( lista_funcionarios:list, espaco_total:float ) -> dict:\n",
        "  funcionarios = {\"Nome\":[],\"Espaço Utilizado\":[],\"% do uso\":[]};\n",
        "  i=0\n",
        "  for funcionario in lista_funcionarios:\n",
        "    nova_lista = lista_funcionarios[i].split(\" \")\n",
        "    funcionarios[\"Nome\"].append(nova_lista[0])\n",
        "    funcionarios[\"Espaço Utilizado\"].append(str(converte_para_megabytes(int(nova_lista[-1]))) + \" MB\")\n",
        "    funcionarios[\"% do uso\"].append(str(calcula_porcentagem_espaco(converte_para_megabytes(int(nova_lista[-1])),espaco_total)) + \"%\")\n",
        "    i +=1\n",
        "  return funcionarios\n",
        "\n",
        "def imprime_espacos(string:str, arquivo):\n",
        "  espacos = 20 - len(string)\n",
        "  for _ in range(espacos):\n",
        "    print(\" \",end=\"\", file= arquivo)\n",
        "\n",
        "def imprime_no_arquivo (funcionarios:dict, espaco_total):\n",
        "  arquivo = open('relatório.txt', 'w')\n",
        "  i = 1\n",
        "  print(\"ACME Inc.      Uso do espaço em disco pelos usuários\", file = arquivo)\n",
        "  print(\"Nr. Usuário        Espaço Utilizado         % de uso\", file = arquivo)\n",
        "  for j in range(len(funcionarios[\"Nome\"])):\n",
        "    print(i, \"  \", end = \"\", file = arquivo)\n",
        "    for key in funcionarios:\n",
        "      print(f\"{funcionarios[key][j]}\", end = \"\", file = arquivo)\n",
        "      imprime_espacos(funcionarios[key][j], arquivo)   #para a formatação da tabela\n",
        "\n",
        "    i +=1\n",
        "    j +=1\n",
        "    print(\"\\n\", file = arquivo)\n",
        "  print(f\"\\nEspaço total ocupado: {espaco_total} MB\", file = arquivo)\n",
        "  print(\"\\nEspaço médio ocupado: \", round(espaco_total/len(funcionarios[\"Nome\"]),2), \" MB\", file = arquivo)\n",
        "  arquivo.close()\n",
        "\n",
        "\n",
        "#uploaded = files.upload()        (descomentar e upar o arquivo de entrada)\n",
        "lista_funcionarios = []\n",
        "with open('funcionarios.txt', 'r') as arquivo:\n",
        "  for linha in arquivo:\n",
        "    lista_funcionarios.append(linha)\n",
        "  pass\n",
        "\n",
        "espaco_total = calcula_espaco_total(lista_funcionarios)\n",
        "funcionarios = monta_dicionario(lista_funcionarios, espaco_total)\n",
        "imprime_no_arquivo(funcionarios, espaco_total)\n",
        "\n",
        "#apenas para conferência no console\n",
        "with open('relatório.txt', 'r') as arquivo:\n",
        "  for linha in arquivo:\n",
        "    print(linha)\n",
        "  pass\n",
        "\n"
      ],
      "metadata": {
        "colab": {
          "base_uri": "https://localhost:8080/"
        },
        "id": "SOLjbMefvT8P",
        "outputId": "3f7543da-6143-4239-f452-0f0b85bc615a"
      },
      "execution_count": null,
      "outputs": [
        {
          "output_type": "stream",
          "name": "stdout",
          "text": [
            "ACME Inc.      Uso do espaço em disco pelos usuários\n",
            "\n",
            "Nr. Usuário        Espaço Utilizado         % de uso\n",
            "\n",
            "1   alexandre           434.99 MB           16.85%              \n",
            "\n",
            "\n",
            "\n",
            "2   anderson            1187.99 MB          46.02%              \n",
            "\n",
            "\n",
            "\n",
            "3   antonio             117.74 MB           4.56%               \n",
            "\n",
            "\n",
            "\n",
            "4   carlos              87.03 MB            3.37%               \n",
            "\n",
            "\n",
            "\n",
            "5   cesar               0.94 MB             0.04%               \n",
            "\n",
            "\n",
            "\n",
            "6   rosemary            752.88 MB           29.16%              \n",
            "\n",
            "\n",
            "\n",
            "\n",
            "\n",
            "Espaço total ocupado: 2581.57 MB\n",
            "\n",
            "\n",
            "\n",
            "Espaço médio ocupado:  430.26  MB\n",
            "\n"
          ]
        }
      ]
    },
    {
      "cell_type": "code",
      "source": [
        "#9. Escreva um programa que pergunte nomes de alunos de uma sala de aula. O número de alunos é desconhecido,\n",
        "#por isso o programa deve perguntar até que seja digitada a palavra “fim”. Depois, o programa deve sortear um aluno para apresentar\n",
        "#o trabalho primeiro.\n",
        "\n",
        "from random import randint\n",
        "\n",
        "print(\"############### SORTEADOR DE ALUNOS ###############\")\n",
        "continua = True\n",
        "alunos = []\n",
        "\n",
        "while( continua ):\n",
        "  aluno = input(\"Digite um nome: \")\n",
        "  if(aluno.lower() == \"fim\"):\n",
        "    continua = False\n",
        "  else:\n",
        "    alunos.append(aluno)\n",
        "\n",
        "seed(1)\n",
        "sorteado = randint(0,len(alunos) - 1)\n",
        "print(f\"\\nO primeiro aluno a apresentar será: {alunos[sorteado]D}.\")\n"
      ],
      "metadata": {
        "colab": {
          "base_uri": "https://localhost:8080/"
        },
        "id": "lWW8iCWE_CWr",
        "outputId": "5a8b9762-81cf-46f0-dfaf-9bbe361f41d9"
      },
      "execution_count": null,
      "outputs": [
        {
          "output_type": "stream",
          "name": "stdout",
          "text": [
            "Digite um nome: Tabatha\n",
            "Digite um nome: Léo\n",
            "Digite um nome: Colvara\n",
            "Digite um nome: Daniel\n",
            "Digite um nome: Danilo\n",
            "Digite um nome: FIM\n",
            "O primeiro aluno a apresentar será: Léo.\n"
          ]
        }
      ]
    },
    {
      "cell_type": "code",
      "source": [
        "#10. Escreva um programa que receba o nome de uma sequência de times de futebol e, com as informações obtidas,\n",
        "#exiba uma das partidas de um torneio com os times, de forma que:\n",
        "\n",
        "#- As partidas devem ser geradas de forma aleatória.\n",
        "#- O número de times digitados deve ser par.\n",
        "#- O programa deve pedir nomes até que seja digitado “fim”\n",
        "\n",
        "from random import randint\n",
        "\n",
        "def embaralha_times(times:list) -> str:\n",
        "  for _ in range(len(times) + 5):\n",
        "    origem = randint(0,len(times) - 1)\n",
        "    destino = randint(0,len(times) - 1)\n",
        "    if( origem != destino ):\n",
        "      times[origem], times[destino] = times[destino], times[origem]\n",
        "  return times\n",
        "\n",
        "print(\"############### SORTEADOR DE PARTIDAS ###############\")\n",
        "continua = True\n",
        "times = []\n",
        "i = 1\n",
        "while( continua ):\n",
        "  print(f\"({i})\", end=\"\")\n",
        "  time = input(\"Digite um time: \")\n",
        "  if(time.lower() == \"fim\" and len(times) % 2 > 0):\n",
        "    print(\"Número de times ímpar. Insira mais um para poder finalizar o programa.\")\n",
        "  elif(time.lower() == \"fim\"):\n",
        "    continua = False\n",
        "  else:\n",
        "    times.append(time)\n",
        "  i += 1\n",
        "\n",
        "times = embaralha_times(times)\n",
        "print(\"\\n\")\n",
        "for _ in range(int(len(times)/2)):\n",
        "  print(f\"{times.pop()} x {times.pop()}\")\n",
        "\n",
        "\n"
      ],
      "metadata": {
        "colab": {
          "base_uri": "https://localhost:8080/",
          "height": 571
        },
        "id": "F032m_fjmLwI",
        "outputId": "ac83d33c-08e1-4cca-b533-c3b053e204d0"
      },
      "execution_count": null,
      "outputs": [
        {
          "output_type": "stream",
          "name": "stdout",
          "text": [
            "############### SORTEADOR DE PARTIDAS ###############\n",
            "(1)"
          ]
        },
        {
          "output_type": "error",
          "ename": "KeyboardInterrupt",
          "evalue": "ignored",
          "traceback": [
            "\u001b[0;31m---------------------------------------------------------------------------\u001b[0m",
            "\u001b[0;31mKeyboardInterrupt\u001b[0m                         Traceback (most recent call last)",
            "\u001b[0;32m/usr/local/lib/python3.7/dist-packages/ipykernel/kernelbase.py\u001b[0m in \u001b[0;36m_input_request\u001b[0;34m(self, prompt, ident, parent, password)\u001b[0m\n\u001b[1;32m    728\u001b[0m             \u001b[0;32mtry\u001b[0m\u001b[0;34m:\u001b[0m\u001b[0;34m\u001b[0m\u001b[0;34m\u001b[0m\u001b[0m\n\u001b[0;32m--> 729\u001b[0;31m                 \u001b[0mident\u001b[0m\u001b[0;34m,\u001b[0m \u001b[0mreply\u001b[0m \u001b[0;34m=\u001b[0m \u001b[0mself\u001b[0m\u001b[0;34m.\u001b[0m\u001b[0msession\u001b[0m\u001b[0;34m.\u001b[0m\u001b[0mrecv\u001b[0m\u001b[0;34m(\u001b[0m\u001b[0mself\u001b[0m\u001b[0;34m.\u001b[0m\u001b[0mstdin_socket\u001b[0m\u001b[0;34m,\u001b[0m \u001b[0;36m0\u001b[0m\u001b[0;34m)\u001b[0m\u001b[0;34m\u001b[0m\u001b[0;34m\u001b[0m\u001b[0m\n\u001b[0m\u001b[1;32m    730\u001b[0m             \u001b[0;32mexcept\u001b[0m \u001b[0mException\u001b[0m\u001b[0;34m:\u001b[0m\u001b[0;34m\u001b[0m\u001b[0;34m\u001b[0m\u001b[0m\n",
            "\u001b[0;32m/usr/local/lib/python3.7/dist-packages/jupyter_client/session.py\u001b[0m in \u001b[0;36mrecv\u001b[0;34m(self, socket, mode, content, copy)\u001b[0m\n\u001b[1;32m    802\u001b[0m         \u001b[0;32mtry\u001b[0m\u001b[0;34m:\u001b[0m\u001b[0;34m\u001b[0m\u001b[0;34m\u001b[0m\u001b[0m\n\u001b[0;32m--> 803\u001b[0;31m             \u001b[0mmsg_list\u001b[0m \u001b[0;34m=\u001b[0m \u001b[0msocket\u001b[0m\u001b[0;34m.\u001b[0m\u001b[0mrecv_multipart\u001b[0m\u001b[0;34m(\u001b[0m\u001b[0mmode\u001b[0m\u001b[0;34m,\u001b[0m \u001b[0mcopy\u001b[0m\u001b[0;34m=\u001b[0m\u001b[0mcopy\u001b[0m\u001b[0;34m)\u001b[0m\u001b[0;34m\u001b[0m\u001b[0;34m\u001b[0m\u001b[0m\n\u001b[0m\u001b[1;32m    804\u001b[0m         \u001b[0;32mexcept\u001b[0m \u001b[0mzmq\u001b[0m\u001b[0;34m.\u001b[0m\u001b[0mZMQError\u001b[0m \u001b[0;32mas\u001b[0m \u001b[0me\u001b[0m\u001b[0;34m:\u001b[0m\u001b[0;34m\u001b[0m\u001b[0;34m\u001b[0m\u001b[0m\n",
            "\u001b[0;32m/usr/local/lib/python3.7/dist-packages/zmq/sugar/socket.py\u001b[0m in \u001b[0;36mrecv_multipart\u001b[0;34m(self, flags, copy, track)\u001b[0m\n\u001b[1;32m    624\u001b[0m         \"\"\"\n\u001b[0;32m--> 625\u001b[0;31m         \u001b[0mparts\u001b[0m \u001b[0;34m=\u001b[0m \u001b[0;34m[\u001b[0m\u001b[0mself\u001b[0m\u001b[0;34m.\u001b[0m\u001b[0mrecv\u001b[0m\u001b[0;34m(\u001b[0m\u001b[0mflags\u001b[0m\u001b[0;34m,\u001b[0m \u001b[0mcopy\u001b[0m\u001b[0;34m=\u001b[0m\u001b[0mcopy\u001b[0m\u001b[0;34m,\u001b[0m \u001b[0mtrack\u001b[0m\u001b[0;34m=\u001b[0m\u001b[0mtrack\u001b[0m\u001b[0;34m)\u001b[0m\u001b[0;34m]\u001b[0m\u001b[0;34m\u001b[0m\u001b[0;34m\u001b[0m\u001b[0m\n\u001b[0m\u001b[1;32m    626\u001b[0m         \u001b[0;31m# have first part already, only loop while more to receive\u001b[0m\u001b[0;34m\u001b[0m\u001b[0;34m\u001b[0m\u001b[0;34m\u001b[0m\u001b[0m\n",
            "\u001b[0;32mzmq/backend/cython/socket.pyx\u001b[0m in \u001b[0;36mzmq.backend.cython.socket.Socket.recv\u001b[0;34m()\u001b[0m\n",
            "\u001b[0;32mzmq/backend/cython/socket.pyx\u001b[0m in \u001b[0;36mzmq.backend.cython.socket.Socket.recv\u001b[0;34m()\u001b[0m\n",
            "\u001b[0;32mzmq/backend/cython/socket.pyx\u001b[0m in \u001b[0;36mzmq.backend.cython.socket._recv_copy\u001b[0;34m()\u001b[0m\n",
            "\u001b[0;32m/usr/local/lib/python3.7/dist-packages/zmq/backend/cython/checkrc.pxd\u001b[0m in \u001b[0;36mzmq.backend.cython.checkrc._check_rc\u001b[0;34m()\u001b[0m\n",
            "\u001b[0;31mKeyboardInterrupt\u001b[0m: ",
            "\nDuring handling of the above exception, another exception occurred:\n",
            "\u001b[0;31mKeyboardInterrupt\u001b[0m                         Traceback (most recent call last)",
            "\u001b[0;32m<ipython-input-23-54819ae8966e>\u001b[0m in \u001b[0;36m<module>\u001b[0;34m()\u001b[0m\n\u001b[1;32m     24\u001b[0m \u001b[0;32mwhile\u001b[0m\u001b[0;34m(\u001b[0m \u001b[0mcontinua\u001b[0m \u001b[0;34m)\u001b[0m\u001b[0;34m:\u001b[0m\u001b[0;34m\u001b[0m\u001b[0;34m\u001b[0m\u001b[0m\n\u001b[1;32m     25\u001b[0m   \u001b[0mprint\u001b[0m\u001b[0;34m(\u001b[0m\u001b[0;34mf\"({i})\"\u001b[0m\u001b[0;34m,\u001b[0m \u001b[0mend\u001b[0m\u001b[0;34m=\u001b[0m\u001b[0;34m\"\"\u001b[0m\u001b[0;34m)\u001b[0m\u001b[0;34m\u001b[0m\u001b[0;34m\u001b[0m\u001b[0m\n\u001b[0;32m---> 26\u001b[0;31m   \u001b[0mtime\u001b[0m \u001b[0;34m=\u001b[0m \u001b[0minput\u001b[0m\u001b[0;34m(\u001b[0m\u001b[0;34m\"Digite um time: \"\u001b[0m\u001b[0;34m)\u001b[0m\u001b[0;34m\u001b[0m\u001b[0;34m\u001b[0m\u001b[0m\n\u001b[0m\u001b[1;32m     27\u001b[0m   \u001b[0;32mif\u001b[0m\u001b[0;34m(\u001b[0m\u001b[0mtime\u001b[0m\u001b[0;34m.\u001b[0m\u001b[0mlower\u001b[0m\u001b[0;34m(\u001b[0m\u001b[0;34m)\u001b[0m \u001b[0;34m==\u001b[0m \u001b[0;34m\"fim\"\u001b[0m \u001b[0;32mand\u001b[0m \u001b[0mlen\u001b[0m\u001b[0;34m(\u001b[0m\u001b[0mtimes\u001b[0m\u001b[0;34m)\u001b[0m \u001b[0;34m%\u001b[0m \u001b[0;36m2\u001b[0m \u001b[0;34m>\u001b[0m \u001b[0;36m0\u001b[0m\u001b[0;34m)\u001b[0m\u001b[0;34m:\u001b[0m\u001b[0;34m\u001b[0m\u001b[0;34m\u001b[0m\u001b[0m\n\u001b[1;32m     28\u001b[0m     \u001b[0mprint\u001b[0m\u001b[0;34m(\u001b[0m\u001b[0;34m\"Número de times ímpar. Insira mais um para poder finalizar o programa.\"\u001b[0m\u001b[0;34m)\u001b[0m\u001b[0;34m\u001b[0m\u001b[0;34m\u001b[0m\u001b[0m\n",
            "\u001b[0;32m/usr/local/lib/python3.7/dist-packages/ipykernel/kernelbase.py\u001b[0m in \u001b[0;36mraw_input\u001b[0;34m(self, prompt)\u001b[0m\n\u001b[1;32m    702\u001b[0m             \u001b[0mself\u001b[0m\u001b[0;34m.\u001b[0m\u001b[0m_parent_ident\u001b[0m\u001b[0;34m,\u001b[0m\u001b[0;34m\u001b[0m\u001b[0;34m\u001b[0m\u001b[0m\n\u001b[1;32m    703\u001b[0m             \u001b[0mself\u001b[0m\u001b[0;34m.\u001b[0m\u001b[0m_parent_header\u001b[0m\u001b[0;34m,\u001b[0m\u001b[0;34m\u001b[0m\u001b[0;34m\u001b[0m\u001b[0m\n\u001b[0;32m--> 704\u001b[0;31m             \u001b[0mpassword\u001b[0m\u001b[0;34m=\u001b[0m\u001b[0;32mFalse\u001b[0m\u001b[0;34m,\u001b[0m\u001b[0;34m\u001b[0m\u001b[0;34m\u001b[0m\u001b[0m\n\u001b[0m\u001b[1;32m    705\u001b[0m         )\n\u001b[1;32m    706\u001b[0m \u001b[0;34m\u001b[0m\u001b[0m\n",
            "\u001b[0;32m/usr/local/lib/python3.7/dist-packages/ipykernel/kernelbase.py\u001b[0m in \u001b[0;36m_input_request\u001b[0;34m(self, prompt, ident, parent, password)\u001b[0m\n\u001b[1;32m    732\u001b[0m             \u001b[0;32mexcept\u001b[0m \u001b[0mKeyboardInterrupt\u001b[0m\u001b[0;34m:\u001b[0m\u001b[0;34m\u001b[0m\u001b[0;34m\u001b[0m\u001b[0m\n\u001b[1;32m    733\u001b[0m                 \u001b[0;31m# re-raise KeyboardInterrupt, to truncate traceback\u001b[0m\u001b[0;34m\u001b[0m\u001b[0;34m\u001b[0m\u001b[0;34m\u001b[0m\u001b[0m\n\u001b[0;32m--> 734\u001b[0;31m                 \u001b[0;32mraise\u001b[0m \u001b[0mKeyboardInterrupt\u001b[0m\u001b[0;34m\u001b[0m\u001b[0;34m\u001b[0m\u001b[0m\n\u001b[0m\u001b[1;32m    735\u001b[0m             \u001b[0;32melse\u001b[0m\u001b[0;34m:\u001b[0m\u001b[0;34m\u001b[0m\u001b[0;34m\u001b[0m\u001b[0m\n\u001b[1;32m    736\u001b[0m                 \u001b[0;32mbreak\u001b[0m\u001b[0;34m\u001b[0m\u001b[0;34m\u001b[0m\u001b[0m\n",
            "\u001b[0;31mKeyboardInterrupt\u001b[0m: "
          ]
        }
      ]
    },
    {
      "cell_type": "code",
      "source": [
        "#11. Escreva um programa que implemente o jogo conhecido como **pedra, papel, tesoura**. Neste jogo, o usuário e o computador \n",
        "#escolhem entre pedra, papel ou tesoura. Sabendo que pedra ganha de tesoura, papel ganha de pedra e tesoura ganha de papel, \n",
        "#exiba na tela o ganhador: usuário ou computador. Para esta implementação, assuma que o número 0 representa pedra, \n",
        "#1 representa papel e 2 representa tesoura. O programa deve pedir para o usuário entrar com sua escolha, \n",
        "#gerar aleatoriamente a escolha do computador, exibir a escolha e indicar o vencedor\n",
        "\n",
        "from random import randint\n",
        "import enum\n",
        "\n",
        "class Mao(enum.Enum):\n",
        "   Pedra = 0\n",
        "   Papel = 1\n",
        "   Tesoura = 2\n",
        "\n",
        "print(\"############### PEDRA, PAPEL, TESOURA ###############\")\n",
        "escolha_usuario = Mao(int(input(\"Insira a sua escolha:\\n0-Pedra\\n1-Papel\\n2-Tesoura\\n\"))) \n",
        "escolha_computador =  Mao(randint(0,2))\n",
        "print(\"\\nEscolha do usuário: \", escolha_usuario.name )\n",
        "print(\"Escolha do computador: \", escolha_computador.name)\n",
        "\n",
        "\n",
        "if( escolha_usuario.name == 'Pedra' and escolha_computador.name == 'Tesoura' ):\n",
        "  print(\"Pedra ganha de tesoura. Usuário ganhou!\")\n",
        "elif( escolha_usuario.name == 'Pedra' and escolha_computador.name == 'Papel' ):\n",
        "  print(\"Papel ganha de pedra. Computador ganhou!\")\n",
        "elif( escolha_usuario.name == 'Papel' and escolha_computador.name == 'Tesoura' ):\n",
        "  print(\"Tesoura ganha de papel. Computador ganhou!\")\n",
        "#agora escolhas invertidas\n",
        "elif( escolha_usuario.name == 'Tesoura' and escolha_computador.name == 'Pedra' ):\n",
        "  print(\"Pedra ganha de tesoura. Computador ganhou!\")\n",
        "elif( escolha_usuario.name == 'Papel' and escolha_computador.name == 'Pedra' ):\n",
        "  print(\"Papel ganha de pedra. Usuário ganhou!\")\n",
        "elif( escolha_usuario.name == 'Tesoura' and escolha_computador.name == 'Papel' ):\n",
        "  print(\"Tesoura ganha de papel. Usuário ganhou!\")\n",
        "else:\n",
        "  print(\"Empate!\")\n",
        "\n",
        "\n",
        "\n",
        "\n",
        "\n",
        "\n",
        "\n"
      ],
      "metadata": {
        "colab": {
          "base_uri": "https://localhost:8080/"
        },
        "id": "QpjLs2fzsoZR",
        "outputId": "eb1436d8-1f51-4f24-c390-34e0cbbc62ef"
      },
      "execution_count": null,
      "outputs": [
        {
          "output_type": "stream",
          "name": "stdout",
          "text": [
            "############### PEDRA, PAPEL, TESOURA ###############\n",
            "Insira a sua escolha:\n",
            "0-Pedra\n",
            "1-Papel\n",
            "2-Tesoura\n",
            "1\n",
            "\n",
            "Escolha do usuário:  Papel\n",
            "Escolha do computador:  Pedra\n",
            "Papel ganha de pedra. Usuário ganhou!\n"
          ]
        }
      ]
    }
  ]
}