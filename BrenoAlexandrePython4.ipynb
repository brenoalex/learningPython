{
  "nbformat": 4,
  "nbformat_minor": 0,
  "metadata": {
    "colab": {
      "name": "BrenoAlexandrePython4.ipynb",
      "provenance": [],
      "authorship_tag": "ABX9TyMiGJOo1tp5JvRpVRmRV+FS",
      "include_colab_link": true
    },
    "kernelspec": {
      "name": "python3",
      "display_name": "Python 3"
    },
    "language_info": {
      "name": "python"
    }
  },
  "cells": [
    {
      "cell_type": "markdown",
      "metadata": {
        "id": "view-in-github",
        "colab_type": "text"
      },
      "source": [
        "<a href=\"https://colab.research.google.com/github/brenoalex/learningPython/blob/main/BrenoAlexandrePython4.ipynb\" target=\"_parent\"><img src=\"https://colab.research.google.com/assets/colab-badge.svg\" alt=\"Open In Colab\"/></a>"
      ]
    },
    {
      "cell_type": "code",
      "execution_count": null,
      "metadata": {
        "colab": {
          "base_uri": "https://localhost:8080/"
        },
        "id": "TQO4Ucx-T79g",
        "outputId": "8975f6d5-356e-49ea-a03d-bb6f028818cd"
      },
      "outputs": [
        {
          "output_type": "stream",
          "name": "stdout",
          "text": [
            "Informe um número: -1\n",
            "Erro\n"
          ]
        },
        {
          "output_type": "execute_result",
          "data": {
            "text/plain": [
              "-1"
            ]
          },
          "metadata": {},
          "execution_count": 29
        }
      ],
      "source": [
        "#1. Crie uma função que recebe um valor inteiro e avalie se ele é positivo ou negativo. Em caso negativo a função deve imprimir \"Erro\",\n",
        "#em caso positivo a função deve multiplicar o numero por 5 e retorna-lo.\n",
        "\n",
        "\n",
        "def checa_inteiro (numero:int) -> int:\n",
        "  if( numero > 0):\n",
        "    return 5*numero\n",
        "  else:\n",
        "    print(\"Erro\")\n",
        "    return -1\n",
        "\n",
        "numero = int(input(\"Informe um número: \"))\n",
        "checa_inteiro(numero)"
      ]
    },
    {
      "cell_type": "code",
      "source": [
        "#2. Crie uma função que receba uma lista de números inteiros e exiba todos os valores multiplicados por um valor inserido pelo usuário.\n",
        "\n",
        "def mult_lista(lista: list, numero: int):\n",
        "  nova_lista = []\n",
        "  for n in lista :\n",
        "    nova_lista.append(n*numero)\n",
        "  print(nova_lista)\n",
        "\n",
        "lista = [1,2,3,4,5,6]\n",
        "numero = int(input(\"Insira um número: \"))\n",
        "mult_lista(lista,numero)"
      ],
      "metadata": {
        "colab": {
          "base_uri": "https://localhost:8080/"
        },
        "id": "2U7GlEPpVIKf",
        "outputId": "cee74982-e8b4-4cdb-ae32-a8400f2b2747"
      },
      "execution_count": null,
      "outputs": [
        {
          "output_type": "stream",
          "name": "stdout",
          "text": [
            "Insira um número: 4\n",
            "[4, 8, 12, 16, 20, 24]\n"
          ]
        }
      ]
    },
    {
      "cell_type": "code",
      "source": [
        "#3. Faça o exercicio 2 usando map e lambda\n",
        "def mult_lista(lista: list, numero: int):\n",
        "  print(list(map(lambda x: x*numero, lista )))\n",
        "\n",
        "lista = [1,2,3,4,5,6]\n",
        "numero = int(input(\"Insira um número: \"))\n",
        "mult_lista(lista,numero)"
      ],
      "metadata": {
        "colab": {
          "base_uri": "https://localhost:8080/"
        },
        "id": "RLJ6C9X2XZ8B",
        "outputId": "ec136f9b-0904-4408-f997-63f38b6e8e4e"
      },
      "execution_count": null,
      "outputs": [
        {
          "output_type": "stream",
          "name": "stdout",
          "text": [
            "Insira um número: 4\n",
            "[4, 8, 12, 16, 20, 24]\n"
          ]
        }
      ]
    },
    {
      "cell_type": "code",
      "source": [
        "#4. Crie um programa que receba do usuário 5 números inteiros e os exiba na tela na ordem contrária ao que foi inserido.\n",
        "#A leitura dos números deve ser feita em uma função e a exibição dos valores em ordem contrária deve ocorrer em outra função.\n",
        "\n",
        "def inverter_entrada( lista:list ):\n",
        "  lista.reverse()\n",
        "  print(f\"\\nLista invertida: {lista}\")\n",
        "\n",
        "def captar_entrada ():\n",
        "  entrada = []\n",
        "  for _ in range(5):\n",
        "    cond_parada = True;\n",
        "    while cond_parada:\n",
        "      try:\n",
        "        entrada.append(int(input(\"Insira um inteiro:\")))\n",
        "        cond_parada = False\n",
        "      except:\n",
        "        print(\"Digite um inteiro válido.\")\n",
        "  inverter_entrada(entrada)\n",
        "\n",
        "captar_entrada()\n"
      ],
      "metadata": {
        "colab": {
          "base_uri": "https://localhost:8080/"
        },
        "id": "tN0A7JdQX9mJ",
        "outputId": "a3b5f622-e23e-40a8-c990-ef2b28bb42d3"
      },
      "execution_count": null,
      "outputs": [
        {
          "output_type": "stream",
          "name": "stdout",
          "text": [
            "Insira um inteiro:1\n",
            "Insira um inteiro:2\n",
            "Insira um inteiro:3\n",
            "Insira um inteiro:4\n",
            "Insira um inteiro:5\n",
            "\n",
            "Lista invertida: [5, 4, 3, 2, 1]\n"
          ]
        }
      ]
    },
    {
      "cell_type": "code",
      "source": [
        "#5. Crie um programa que pede ao usuário para insirir um nome. Passe esse nome para uma função que deve retornar se esse nome \n",
        "#existe ou não na lista de nomes convidados = [\"Eduardo\", \"Ivan\", \"Paloma\", \"Andrea\"].\n",
        "#Letras maiusculas ou minusculas não devem importar, se o usuario digitar \"eduardo\" a função deve retornar que o nome existe na lista.\n",
        "\n",
        "def checa_lista (nome:str):\n",
        "  lista = [\"Eduardo\",\"Ivan\",\"Paloma\",\"Andrea\"]\n",
        "  if ( nome in lista):\n",
        "    print(\"O nome informado se encontra na lista de convidados.\")\n",
        "  else:\n",
        "    print(\"O nome informado NÃO se encontra na lista de convidados.\")\n",
        "\n",
        "nome = input(\"Insira um nome e checarei se está na lista: \")\n",
        "checa_lista(nome.capitalize())\n"
      ],
      "metadata": {
        "colab": {
          "base_uri": "https://localhost:8080/"
        },
        "id": "1dthGQ26ardU",
        "outputId": "b61aa981-477c-4161-95bb-68623928256b"
      },
      "execution_count": null,
      "outputs": [
        {
          "output_type": "stream",
          "name": "stdout",
          "text": [
            "Insira um nome e checarei se está na lista: EDUARDO\n",
            "O nome informado se encontra na lista de convidados.\n"
          ]
        }
      ]
    }
  ]
}