{
  "nbformat": 4,
  "nbformat_minor": 0,
  "metadata": {
    "colab": {
      "name": "BrenoAlexandreComplementar1.ipynb",
      "provenance": [],
      "authorship_tag": "ABX9TyMKsDML/ydQ9b1t0vPT2NOc",
      "include_colab_link": true
    },
    "kernelspec": {
      "name": "python3",
      "display_name": "Python 3"
    },
    "language_info": {
      "name": "python"
    }
  },
  "cells": [
    {
      "cell_type": "markdown",
      "metadata": {
        "id": "view-in-github",
        "colab_type": "text"
      },
      "source": [
        "<a href=\"https://colab.research.google.com/github/brenoalex/learningPython/blob/main/BrenoAlexandreComplementar1.ipynb\" target=\"_parent\"><img src=\"https://colab.research.google.com/assets/colab-badge.svg\" alt=\"Open In Colab\"/></a>"
      ]
    },
    {
      "cell_type": "code",
      "execution_count": null,
      "metadata": {
        "colab": {
          "base_uri": "https://localhost:8080/"
        },
        "id": "GJLg27duMe7V",
        "outputId": "dda47f12-fe65-44d7-ebdb-3f4ba02558ea"
      },
      "outputs": [
        {
          "output_type": "stream",
          "name": "stdout",
          "text": [
            "Informe qual é o ganho por hora do funcionário: 50\n",
            "Quantas horas trabalhadas no mês? 20\n",
            "\n",
            "############### INFORMAÇÕES DE PAGAMENTO ###############\n",
            "Salário bruto: 1000.0R$\n",
            "Pago ao INSS: 80.0R$\n",
            "Pago ao Sindicato: 50.0R$\n",
            "Salário líquido: 760.0R$\n"
          ]
        }
      ],
      "source": [
        "#1. Faça um programa que pergunte quanto você ganha por hora e o número de horas trabalhadas no mês. \n",
        "#Calcule e mostre o total do seu salário no referido mês, sabendo-se que são descontados 11% para o Imposto de Renda, \n",
        "#8% para o INSS e 5% para o sindicato, faça um programa que nos dê:\n",
        "\n",
        "#salário bruto.\n",
        "#quanto pagou ao INSS.\n",
        "#quanto pagou ao sindicato.\n",
        "#o salário líquido.\n",
        "#calcule os descontos e o salário líquido, conforme informação abaixo:\n",
        "#Salário Bruto - IR (11%) - INSS (8%) - Sindicato ( 5%) = Salário Liquido\n",
        "\n",
        "ganho_por_hora = float(input(\"Informe qual é o ganho por hora do funcionário: \"))\n",
        "horas_trabalhadas = int(input(\"Quantas horas trabalhadas no mês? \"))\n",
        "\n",
        "salario_bruto = ganho_por_hora*horas_trabalhadas\n",
        "imposto_de_renda = salario_bruto*(11/100)\n",
        "inss = salario_bruto*(8/100)\n",
        "sindicato = salario_bruto*(5/100)\n",
        "salario_liquido = salario_bruto - imposto_de_renda - inss - sindicato\n",
        "\n",
        "print(\"\\n############### INFORMAÇÕES DE PAGAMENTO ###############\")\n",
        "print(f\"Salário bruto: {salario_bruto}R$\")\n",
        "print(f\"Pago ao INSS: {inss}R$\")\n",
        "print(f\"Pago ao Sindicato: {sindicato}R$\")\n",
        "print(f\"Salário líquido: {salario_liquido}R$\")\n"
      ]
    },
    {
      "cell_type": "code",
      "source": [
        "#2. Faça um programa que peça o tamanho de um arquivo para download (em MB) e a velocidade de um link de Internet (em Mbps), \n",
        "#calcule e informe o tempo aproximado de download do arquivo usando este link (em minutos)\n",
        "\n",
        "tamanho = float(input(\"Tamanho do arquivo em Megabytes? \"))\n",
        "vel_link = int(input(\"Velocidade de link de Internet? (em Mbps) \"))\n",
        "\n",
        "temp_aprox = (tamanho/vel_link)/60\n",
        "\n",
        "print(f\"\\nO tempo aproximado de Download é: {round(temp_aprox,2)} minutos.\")\n",
        "\n",
        "\n"
      ],
      "metadata": {
        "colab": {
          "base_uri": "https://localhost:8080/"
        },
        "id": "lEDsdGT9QD47",
        "outputId": "15c574c0-276a-41d0-d923-769da52af838"
      },
      "execution_count": null,
      "outputs": [
        {
          "output_type": "stream",
          "name": "stdout",
          "text": [
            "Tamanho do arquivo em Megabytes? 30000\n",
            "Velocidade de link de Internet? (em Mbps) 15\n",
            "\n",
            "O tempo aproximado de Download é: 33.33 minutos.\n"
          ]
        }
      ]
    },
    {
      "cell_type": "code",
      "source": [
        "#3. João Papo-de-Pescador, homem de bem, comprou um microcomputador para controlar o rendimento diário de seu trabalho. \n",
        "#Toda vez que ele traz um peso de peixes maior que o estabelecido pelo regulamento de pesca do estado de São Paulo (50 quilos)\n",
        "#deve pagar uma multa de R$ 4,00 por quilo excedente. João precisa que você faça um programa que leia a variável peso (peso de peixes)\n",
        "#e calcule o excesso. Gravar na variável excesso a quantidade de quilos além do limite e na variável multa o valor da multa que João deverá pagar. \n",
        "#Imprima os dados do programa com as mensagens adequadas.\n",
        "\n",
        "peso = float(input(\"Informe o peso de peixes em kg: \"))\n",
        "\n",
        "if(peso > 50):\n",
        "  excesso = peso - 50\n",
        "  multa = excesso*4\n",
        "  print(f\"Peso de peixes foi excedido. João deve {round(multa,2)}R$ de multa.\")\n",
        "else:\n",
        "  print(\"Peso de peixes não foi excedido. João não deve multa.\")\n"
      ],
      "metadata": {
        "colab": {
          "base_uri": "https://localhost:8080/"
        },
        "id": "xlShCIZWRvNn",
        "outputId": "452e8471-cd3b-4373-a027-e4761a8225fd"
      },
      "execution_count": null,
      "outputs": [
        {
          "output_type": "stream",
          "name": "stdout",
          "text": [
            "Informe o peso de peixes em kg: 53.7\n",
            "Peso de peixes foi excedido. João deve 14.8R$ de multa.\n"
          ]
        }
      ]
    },
    {
      "cell_type": "code",
      "source": [
        "#4. Faça um programa para uma loja de tintas. O programa deverá pedir o tamanho em metros quadrados da área a ser pintada.\n",
        "#Considere que a cobertura da tinta é de 1 litro para cada 3 metros quadrados e que a tinta é vendida em latas de 18 litros, \n",
        "#que custam R$ 80,00. Informe ao usuário a quantidades de latas de tinta a serem compradas e o preço total. \n",
        "#Obs.: somente são vendidos um número inteiro de latas.\n",
        "\n",
        "import math\n",
        "\n",
        "area = float(input(\"Informe a área em m² que será pintada: \"))\n",
        "\n",
        "qtd_litros = area/3\n",
        "qtd_latas = math.ceil(qtd_litros/18)\n",
        "preco = qtd_latas*80\n",
        "\n",
        "print(f\"\\nQuantidade de latas a serem compradas: {qtd_latas}.\\nPreço total: {preco}R$.\")"
      ],
      "metadata": {
        "colab": {
          "base_uri": "https://localhost:8080/"
        },
        "id": "7XGBjUoFTmsn",
        "outputId": "8af42eae-c6f6-4f99-daf1-4fa0f11969b1"
      },
      "execution_count": null,
      "outputs": [
        {
          "output_type": "stream",
          "name": "stdout",
          "text": [
            "Informe a área em m² que será pintada: 55\n",
            "\n",
            "Quantidade de latas a serem compradas: 2.\n",
            "Preço total: 160R$.\n"
          ]
        }
      ]
    },
    {
      "cell_type": "code",
      "source": [
        "\n",
        "#5. Faça um Programa para uma loja de tintas. O programa deverá pedir o tamanho em metros quadrados da área a ser pintada. \n",
        "#Considere que a cobertura da tinta é de 1 litro para cada 6 metros quadrados e que a tinta é vendida em latas de 18 litros, \n",
        "#que custam R$ 80,00 ou em galões de 3,6 litros, que custam R$ 25,00. Informe ao usuário as quantidades de tinta a serem compradas \n",
        "#e os respectivos preços em 3 situações:\n",
        "#1) comprar apenas latas de 18 litros;\n",
        "#2) comprar apenas galões de 3,6 litros;\n",
        "#3) misturar latas e galões, de forma que o desperdício de tinta seja menor. Acrescente 10% de folga e sempre arredonde os \n",
        "#   valores para cima, isto é, considere latas cheias.\n",
        "\n",
        "import math\n",
        "\n",
        "def calcula_preco_galao_maior ( qtd_litros ):\n",
        "  qtd = math.ceil(qtd_litros/18)\n",
        "  print(f\"Situação 1: Serão utilizados {qtd} galões de tinta de 18L, totalizando {qtd*80}R$. \")\n",
        "  \n",
        "def calcula_preco_galao_menor ( qtd_litros ):\n",
        "  qtd = math.ceil(qtd_litros/3.6)\n",
        "  print(f\"Situação 2: Serão utilizados {qtd} galões de tinta de 3.6L, totalizando {qtd*25}R$. \")\n",
        "\n",
        "def calcula_preco_misturado ( qtd_litros ):\n",
        "  qtd_litros *= 1.1\n",
        "  qtd_g_gra = math.floor(qtd_litros/18)\n",
        "  qtd_g_peq = math.ceil((qtd_litros - qtd_g_gra*18)/3.6)  \n",
        "  valor = qtd_g_gra*80 + qtd_g_peq*25\n",
        "  print(f\"Situação 3: Serão utilizados {qtd_g_peq} galões pequenos e {qtd_g_gra} galões grandes. Totalizando {valor}R$.\")\n",
        "\n",
        "area = float(input(\"Informe a área em m² que vai ser pintada: \"))\n",
        "\n",
        "qtd_litros = round(area/6,3)\n",
        "print(\"\\n################################# ORÇAMENTO DE PINTURA #################################\")\n",
        "print(f\"Quantidade de litros de tinta necessários: {qtd_litros}.\")\n",
        "calcula_preco_galao_maior(qtd_litros)\n",
        "calcula_preco_galao_menor(qtd_litros)\n",
        "calcula_preco_misturado(qtd_litros)\n",
        "\n"
      ],
      "metadata": {
        "colab": {
          "base_uri": "https://localhost:8080/"
        },
        "id": "0Rhr5CW8XclS",
        "outputId": "5e3b5291-23a2-4e4e-eb0c-2c22b1a41ee8"
      },
      "execution_count": null,
      "outputs": [
        {
          "output_type": "stream",
          "name": "stdout",
          "text": [
            "Informe a área em m² que vai ser pintada: 18\n",
            "\n",
            "################################# ORÇAMENTO DE PINTURA #################################\n",
            "Quantidade de litros de tinta necessários: 3.0.\n",
            "Situação 1: Serão utilizados 1 galões de tinta de 18L, totalizando 80R$. \n",
            "Situação 2: Serão utilizados 1 galões de tinta de 3.6L, totalizando 25R$. \n",
            "Situação 3: Serão utilizados 1 galões pequenos e 0 galões grandes. Totalizando 25R$.\n"
          ]
        }
      ]
    },
    {
      "cell_type": "code",
      "source": [
        "#6. Um posto está vendendo combustíveis com a seguinte tabela de descontos:\n",
        "#a. Álcool:até 20 litros, desconto de 3% por litro\n",
        "#acima de 20 litros, desconto de 5% por litro\n",
        "#b. Gasolina:até 20 litros, desconto de 4% por litro\n",
        "#acima de 20 litros, desconto de 6% por litro\n",
        "\n",
        "#Escreva um algoritmo que leia o número de litros vendidos, o tipo de combustível (codificado da seguinte forma: A-álcool, G-gasolina), \n",
        "#calcule e imprima o valor a ser pago pelo cliente sabendo-se que o preço do litro da gasolina é 2.50 o preço do litro do álcool é 1,90.\n",
        "\n",
        "def calcula_valor_a (qtd_litros):\n",
        "  if( qtd_litros <= 20):\n",
        "    print(\"\\n(3% de desconto)\")\n",
        "    return round(1.90*qtd_litros*0.97,2)\n",
        "  else:\n",
        "    print(\"\\n(5% de desconto)\")\n",
        "    return round(1.90*qtd_litros*0.95,2)\n",
        "\n",
        "def calcula_valor_g (qtd_litros):\n",
        "  if( qtd_litros <= 20):\n",
        "    print(\"\\n(4% de desconto)\")\n",
        "    return round(2.50*qtd_litros*0.96,2)\n",
        "  else:\n",
        "    print(\"\\n(6% de desconto)\")\n",
        "    return round(2.50*qtd_litros*0.94,2)\n",
        "\n",
        "qtd_litros = float(input(\"Quantidade de litros?\"))\n",
        "tipo_comb = input(\"Álcool ou Gasolina? (A/G)\")\n",
        "\n",
        "tipo_comb = tipo_comb.lower()\n",
        "if( tipo_comb == 'a'):\n",
        "  print(f\"Foram abastecidos {qtd_litros} litros de Álcool. Totalizando {calcula_valor_a(qtd_litros)}R$ \")\n",
        "elif( tipo_comb == 'g'):\n",
        "   print(f\"Foram abastecidos {qtd_litros} litros de Gasolina. Totalizando {calcula_valor_g(qtd_litros)}R$ \")\n",
        "else:\n",
        "  print(\"Tipo de combustível fornecido inválido. Digite 'A' ou 'G'.\")\n"
      ],
      "metadata": {
        "colab": {
          "base_uri": "https://localhost:8080/"
        },
        "id": "uq3EtKc3ATlj",
        "outputId": "092e1720-77cb-4d7c-d933-1d390392fb3b"
      },
      "execution_count": null,
      "outputs": [
        {
          "output_type": "stream",
          "name": "stdout",
          "text": [
            "Quantidade de litros?22\n",
            "Álcool ou Gasolina? (A/G)a\n",
            "\n",
            "(5% de desconto)\n",
            "Foram abastecidos 22.0 litros de Álcool. Totalizando 39.71R$ \n"
          ]
        }
      ]
    },
    {
      "cell_type": "code",
      "source": [
        "#7. Faça um Programa que leia 2 números e em seguida pergunte ao usuário qual operação ele deseja realizar. \n",
        "#O resultado da operação deve ser acompanhado de uma frase que diga se o número é:\n",
        "#a. par ou ímpar;\n",
        "#b. positivo ou negativo;\n",
        "#c. inteiro ou decimal.\n",
        "\n",
        "def div (num1,num2):\n",
        "  if( num2 != 0 ):\n",
        "    return num1/num2\n",
        "  else:\n",
        "    print(\"Operação inválida: divisão por zero.\")\n",
        "\n",
        "def pot (num1,num2):\n",
        "  return num1**num2\n",
        "\n",
        "def rad (num1,num2):\n",
        "  return num1**(1/int(num2))\n",
        "\n",
        "def integer (number):\n",
        "  if(number % 1 == 0):\n",
        "    print(\"O número é inteiro.\")\n",
        "    return True\n",
        "  else:\n",
        "    print(\"O número é decimal\")\n",
        "    return False\n",
        "\n",
        "def even (number):\n",
        "  if( number % 1 > 0 ): #numero decimal, que não pode ser classificado com ímpar ou par\n",
        "    return\n",
        "  else:\n",
        "    if(number % 2 == 0):\n",
        "      print(\"O número é par.\")\n",
        "      return True\n",
        "    else:\n",
        "      print(\"O número é impar.\")\n",
        "      return False\n",
        "\n",
        "def positive (number):\n",
        "  if(number > 0):\n",
        "    print(\"O número é positivo\")\n",
        "    return True\n",
        "  else:\n",
        "    print(\"O número é negativo\")\n",
        "    return False\n",
        "\n",
        "def menu (num1,num2):\n",
        "  result = 0\n",
        "  print(\"Escolha agora uma operação: \")\n",
        "  print(\"1- Soma\\n2- Subtração\\n3- Multiplicação\\n4- Divisão\\n5- Potenciação\\n6- Radiciação\")\n",
        "  escolha = int(input())\n",
        "\n",
        "  if(escolha == 1):\n",
        "    result = num1 + num2\n",
        "    print(f\"\\nO resultado da soma de {num1} e {num2} é: {result}.\")\n",
        "    even(result)\n",
        "    positive(result)\n",
        "    integer(result)\n",
        "\n",
        "  elif(escolha == 2):\n",
        "    result = num1 - num2\n",
        "    print(f\"\\nO resultado da subtração de {num1} e {num2} é: {result}.\")\n",
        "    even(result)\n",
        "    positive(result)\n",
        "    integer(result)\n",
        "\n",
        "  elif(escolha == 3):\n",
        "    result = num1 * num2\n",
        "    print(f\"\\nO resultado da multiplicação de {num1} e {num2} é: {result}.\")\n",
        "    even(result)\n",
        "    positive(result)\n",
        "    integer(result)\n",
        "\n",
        "  elif(escolha == 4):\n",
        "    result = div(num1,num2)\n",
        "    if(num2 != 0):\n",
        "      print(f\"\\nO resultado da divisão de {num1} e {num2} é: {result}.\")\n",
        "      even(result)\n",
        "      positive(result)\n",
        "      integer(result)\n",
        "\n",
        "  elif(escolha == 5):\n",
        "    result = pot(num1,num2)\n",
        "    print(f\"\\nO resultado da potenciação de {num1} e {num2} é: {result}.\")\n",
        "    even(result)\n",
        "    positive(result)\n",
        "    integer(result)\n",
        "\n",
        "  elif(escolha == 6):\n",
        "    result = rad(num1,num2)\n",
        "    print(f\"\\nO resultado da radiciação de {num1} e {num2} é: {result}.\")\n",
        "    even(result)\n",
        "    positive(result)\n",
        "    integer(result)\n",
        "\n",
        "  else:\n",
        "    print(\"Escolha inválida. Abortando o programa.\")\n",
        "\n",
        "num1 = float(input(\"Insira o primeiro número: \"))\n",
        "num2 = float(input(\"Insira o segundo número: \"))\n",
        "menu(num1,num2)\n"
      ],
      "metadata": {
        "colab": {
          "base_uri": "https://localhost:8080/"
        },
        "id": "M_krHHjGGcIt",
        "outputId": "cbf3f25b-3393-4003-c5e0-c774cab63e75"
      },
      "execution_count": null,
      "outputs": [
        {
          "output_type": "stream",
          "name": "stdout",
          "text": [
            "Insira o primeiro número: 4\n",
            "Insira o segundo número: 0\n",
            "Escolha agora uma operação: \n",
            "1- Soma\n",
            "2- Subtração\n",
            "3- Multiplicação\n",
            "4- Divisão\n",
            "5- Potenciação\n",
            "6- Radiciação\n",
            "4\n",
            "Operação inválida: divisão por zero.\n"
          ]
        }
      ]
    },
    {
      "cell_type": "code",
      "source": [
        ""
      ],
      "metadata": {
        "id": "rWRkCdliN_St"
      },
      "execution_count": null,
      "outputs": []
    }
  ]
}