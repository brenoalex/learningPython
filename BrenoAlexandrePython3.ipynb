{
  "nbformat": 4,
  "nbformat_minor": 0,
  "metadata": {
    "colab": {
      "name": "BrenoAlexandre3.ipynb",
      "provenance": [],
      "authorship_tag": "ABX9TyNVD++A7yczsdeumbS6R1hz",
      "include_colab_link": true
    },
    "kernelspec": {
      "name": "python3",
      "display_name": "Python 3"
    },
    "language_info": {
      "name": "python"
    }
  },
  "cells": [
    {
      "cell_type": "markdown",
      "metadata": {
        "id": "view-in-github",
        "colab_type": "text"
      },
      "source": [
        "<a href=\"https://colab.research.google.com/github/brenoalex/learningPython/blob/main/BrenoAlexandre3.ipynb\" target=\"_parent\"><img src=\"https://colab.research.google.com/assets/colab-badge.svg\" alt=\"Open In Colab\"/></a>"
      ]
    },
    {
      "cell_type": "code",
      "execution_count": null,
      "metadata": {
        "colab": {
          "base_uri": "https://localhost:8080/"
        },
        "id": "e0alNwQo-xGF",
        "outputId": "a1993ff4-c562-47a4-dfa8-54a873dbefa6"
      },
      "outputs": [
        {
          "output_type": "stream",
          "name": "stdout",
          "text": [
            "1\n",
            "3\n",
            "5\n",
            "7\n",
            "9\n",
            "11\n",
            "13\n",
            "15\n",
            "17\n",
            "19\n",
            "21\n",
            "23\n",
            "25\n",
            "27\n",
            "29\n",
            "31\n",
            "33\n",
            "35\n",
            "37\n",
            "39\n",
            "41\n",
            "43\n",
            "45\n",
            "47\n",
            "49\n"
          ]
        }
      ],
      "source": [
        "#1. Faça um programa que imprima na tela apenas os números ímpares entre 1 e 50.\n",
        "\n",
        "for n in range(1,51,2):\n",
        "  print (n)"
      ]
    },
    {
      "cell_type": "code",
      "source": [
        "#2. Faça um programa que leia 5 números e informe o maior número.\n",
        "lista = []\n",
        "for _ in range(5):\n",
        "  lista.append(int(input(\"Informe um número: \")))\n",
        "\n",
        "print(\"\\nO maior número inserido foi: \",max(lista))\n"
      ],
      "metadata": {
        "colab": {
          "base_uri": "https://localhost:8080/"
        },
        "id": "wPKbS_SMGEgc",
        "outputId": "e32d7d7f-1322-4502-cb15-81612763b84b"
      },
      "execution_count": null,
      "outputs": [
        {
          "output_type": "stream",
          "name": "stdout",
          "text": [
            "Informe um número: 5\n",
            "Informe um número: 13\n",
            "Informe um número: 88\n",
            "Informe um número: 1\n",
            "Informe um número: 2\n",
            "O maior número inserido foi:  88\n"
          ]
        }
      ]
    },
    {
      "cell_type": "code",
      "source": [
        "#3. Escreva um programa que receba um numero n, e logo após, receba n itens populando uma lista. \n",
        "#E imprima no final cada um desses itens na ordem oposta em que foram inseridos\n",
        "\n",
        "numero = int(input(\"Informe um número: \"))\n",
        "lista = []\n",
        "\n",
        "for _ in range(numero):\n",
        "  lista.append(int(input(\"Insira número para popular a lista: \")))\n",
        "\n",
        "lista.reverse()\n",
        "print(lista)"
      ],
      "metadata": {
        "colab": {
          "base_uri": "https://localhost:8080/"
        },
        "id": "xJW58b1kP37F",
        "outputId": "3bb004f6-b22a-4c04-f2d2-62247af3502c"
      },
      "execution_count": null,
      "outputs": [
        {
          "output_type": "stream",
          "name": "stdout",
          "text": [
            "Informe um número: 5\n",
            "Insira número para popular a lista: 1\n",
            "Insira número para popular a lista: 2\n",
            "Insira número para popular a lista: 3\n",
            "Insira número para popular a lista: 4\n",
            "Insira número para popular a lista: 5\n",
            "[5, 4, 3, 2, 1]\n"
          ]
        }
      ]
    },
    {
      "cell_type": "code",
      "source": [
        "#4. Faça um programa que recebe um número de 1 a 10 do usuário e imprime a tabuada de multiplicação desse número\n",
        "\n",
        "numero = int(input('Informe um número de 1 a 10: '))\n",
        "\n",
        "while(numero < 1 or numero > 10):\n",
        "  print(\"Número fora do escopo do programa.\")\n",
        "  numero = int(input('Informe um número de 1 a 10: '))\n",
        "\n",
        "print(f\"\\n############### TABUADA DO {numero} ###############\")\n",
        "for n in range(1,11):\n",
        "  print(f\"{n}x{numero}: \", n*numero)"
      ],
      "metadata": {
        "colab": {
          "base_uri": "https://localhost:8080/"
        },
        "id": "n5vrZxHeRdAO",
        "outputId": "2472a6dd-2a60-445c-d4d7-571625a4b8ca"
      },
      "execution_count": null,
      "outputs": [
        {
          "output_type": "stream",
          "name": "stdout",
          "text": [
            "Informe um número de 1 a 10: 7\n",
            "\n",
            "############### TABUADA DO 7 ###############\n",
            "1x7:  7\n",
            "2x7:  14\n",
            "3x7:  21\n",
            "4x7:  28\n",
            "5x7:  35\n",
            "6x7:  42\n",
            "7x7:  49\n",
            "8x7:  56\n",
            "9x7:  63\n",
            "10x7:  70\n"
          ]
        }
      ]
    },
    {
      "cell_type": "code",
      "source": [
        "#5. Imagine que você tem um problema no qual precisa somar todos os números\n",
        "#múltiplos de 3 até 1000, ou até a soma ultrapassar 300. Se caso o número\n",
        "#seja múltiplo de 3 deve ser exibido \"Buscando...\". Mas caso o número seja\n",
        "#múltiplo de 5, nada deve ser exibido.\n",
        "\n",
        "i = 3\n",
        "somatorio = 0\n",
        "\n",
        "while( i <= 1000 and somatorio < 300):\n",
        "  somatorio +=i\n",
        "  i += 3\n",
        "  if( somatorio % 3 == 0 and not somatorio % 5 == 0):\n",
        "    print(\"Buscando...\")\n",
        "\n"
      ],
      "metadata": {
        "colab": {
          "base_uri": "https://localhost:8080/"
        },
        "id": "Ljy5xNjcSf4A",
        "outputId": "3fbd63e0-37c5-43c8-e107-dd039556a5eb"
      },
      "execution_count": null,
      "outputs": [
        {
          "output_type": "stream",
          "name": "stdout",
          "text": [
            "Buscando...\n",
            "Buscando...\n",
            "Buscando...\n",
            "Buscando...\n",
            "Buscando...\n",
            "Buscando...\n",
            "Buscando...\n",
            "Buscando...\n",
            "Buscando...\n"
          ]
        }
      ]
    }
  ]
}
