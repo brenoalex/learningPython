{
  "nbformat": 4,
  "nbformat_minor": 0,
  "metadata": {
    "colab": {
      "name": "BrenoAlexandrePython2.ipynb",
      "provenance": [],
      "authorship_tag": "ABX9TyMzRmxR0VRjUvYyx//Atfqv",
      "include_colab_link": true
    },
    "kernelspec": {
      "name": "python3",
      "display_name": "Python 3"
    },
    "language_info": {
      "name": "python"
    }
  },
  "cells": [
    {
      "cell_type": "markdown",
      "metadata": {
        "id": "view-in-github",
        "colab_type": "text"
      },
      "source": [
        "<a href=\"https://colab.research.google.com/github/brenoalex/learningPython/blob/main/BrenoAlexandrePython2.ipynb\" target=\"_parent\"><img src=\"https://colab.research.google.com/assets/colab-badge.svg\" alt=\"Open In Colab\"/></a>"
      ]
    },
    {
      "cell_type": "code",
      "execution_count": null,
      "metadata": {
        "colab": {
          "base_uri": "https://localhost:8080/"
        },
        "id": "-kMg4OSqCT_W",
        "outputId": "5788270c-71e4-435e-e694-eb678a340f26"
      },
      "outputs": [
        {
          "output_type": "stream",
          "name": "stdout",
          "text": [
            "2 x 3 = 5 False\n",
            "2 x 2.0 = 4 True\n",
            "a + 3 = b False\n"
          ]
        }
      ],
      "source": [
        "#1. Verifique se as igualdades abaixo são verdadeiras:\n",
        "\n",
        "print('2 x 3 = 5',2 * 3 == 5)\n",
        "\n",
        "print('2 x 2.0 = 4', 2*2.0 == 4)\n",
        "\n",
        "a = 3\n",
        "b = 15\n",
        "print('a + 3 = b', a + 3 == b)"
      ]
    },
    {
      "cell_type": "code",
      "source": [
        "#2. Faça um programa que calcule as raízes de uma equação do segundo grau, na forma ax² + bx + c. \n",
        "#O programa deverá pedir os valores de a, b e c e fazer as consistências, informando ao usuário nas seguintes situações:\n",
        "\n",
        "#a) Se o usuário informar o valor de A igual a zero, a equação não é do segundo grau e o programa não deve pedir os demais valores, sendo encerrado;\n",
        "#b) Se o delta calculado for negativo, a equação não possui raizes reais. Informe ao usuário e encerre o programa;\n",
        "#c) Se o delta calculado for igual a zero a equação possui apenas uma raiz real; informe-a ao usuário;\n",
        "#d) Se o delta for positivo, a equação possui duas raiz reais; informe-as ao usuário;\n",
        "\n",
        "import math\n",
        "\n",
        "print(\"Calcularei as raízes de uma equação de segundo grau, dados os coeficientes a, b e c.\")\n",
        "coeficiente_a = int(input(\"Informe o coeficiente a: \"))\n",
        "if( coeficiente_a != 0):\n",
        "  coeficiente_b = int(input(\"Informe o coeficiente b: \"))\n",
        "  coeficiente_c = int(input(\"Informe o coeficiente c: \"))\n",
        "\n",
        "  delta = coeficiente_b**2 - 4*coeficiente_a*coeficiente_c\n",
        "\n",
        "  if(delta < 0):\n",
        "    print(\"Delta negativo. A equação não possui raízes reais.\")\n",
        "  elif(delta == 0):\n",
        "    print(\"Delta igual à zero. A equação possui uma raiz real.\")\n",
        "    print(\"A solução da equação é:\", (-coeficiente_b + math.sqrt(delta)/2*coeficiente_a))\n",
        "  else: \n",
        "    print(\"Delta é positivo. A equação possui duas raizes reais.\")\n",
        "    print(\"A primeira raiz da equação é:\", (-coeficiente_b + math.sqrt(delta)/2*coeficiente_a))\n",
        "    print(\"A segunda raiz da equação é:\", (-coeficiente_b - math.sqrt(delta)/2*coeficiente_a))\n",
        "\n",
        "else:\n",
        "  print('Coeficiente deve ser diferente de zero. A equação não é de segundo grau.')\n",
        "\n"
      ],
      "metadata": {
        "colab": {
          "base_uri": "https://localhost:8080/"
        },
        "id": "vEuDBl7lDjSY",
        "outputId": "dd7ddd88-f429-403e-a511-e47ee6791087"
      },
      "execution_count": null,
      "outputs": [
        {
          "output_type": "stream",
          "name": "stdout",
          "text": [
            "Calcularei as raízes de uma equação de segundo grau, dados os coeficientes a, b e c.\n",
            "Informe o coeficiente a: 2\n",
            "Informe o coeficiente b: 4\n",
            "Informe o coeficiente c: 2\n",
            "Delta igual à zero. A equação possui uma raiz real.\n",
            "A solução da equação é: -4.0\n"
          ]
        }
      ]
    },
    {
      "cell_type": "code",
      "source": [
        "# 3. Faça um Programa que peça um número correspondente a um determinado ano e em seguida informe se este ano é ou não bissexto.\n",
        "\n",
        "ano = int(input(\"Informe um ano e direi se é ou não bissexto: \"))\n",
        "\n",
        "# São duas condições para um ano ser bissexto:\n",
        "#Ser múltiplo de 4 e não ser multiplo de 100\n",
        "#OU\n",
        "#Ser múltiplo de 400\n",
        "\n",
        "if((ano % 4 == 0 and ano %4 != 100) or (ano % 400 == 0)):\n",
        "  print(f\"O ano {ano} é bissexto!\")\n",
        "else:\n",
        "  print(f\"O ano {ano} não é bissexto!\")\n",
        "\n"
      ],
      "metadata": {
        "colab": {
          "base_uri": "https://localhost:8080/"
        },
        "id": "ykSgl66iHSsr",
        "outputId": "c4347452-1617-4147-e974-b27de3660cc0"
      },
      "execution_count": null,
      "outputs": [
        {
          "output_type": "stream",
          "name": "stdout",
          "text": [
            "Informe um ano e direi se é ou não bissexto: 2009\n",
            "O ano 2009 não é bissexto!\n"
          ]
        }
      ]
    },
    {
      "cell_type": "code",
      "source": [
        "#4. Faça um Programa que peça uma data no formato dd/mm/aaaa e determine se a mesma é uma data válida.\n",
        "def eh_bissexto(ano):\n",
        "  if((ano % 4 == 0 and ano %4 != 100) or (ano % 400 == 0)):\n",
        "    return True\n",
        "  else:\n",
        "    return False\n",
        "\n",
        "\n",
        "data = input('Informe uma data (dd/mm/aaaa): ')\n",
        "\n",
        "data = data.split('/')\n",
        "dia = int(data[0])\n",
        "mes = int(data[1])\n",
        "ano = int(data[2])\n",
        "bissexto = eh_bissexto(ano)\n",
        "\n",
        "if( dia < 0 or dia > 31 or mes < 0 or mes > 12 or ano < 0):\n",
        "  print(\"Data inválida.\")\n",
        "else:\n",
        "  #janeiro, março, maio, julho, agosto, outubro e dezembro tem 31 dias\n",
        "  if((mes == 1 or mes == 3 or mes == 5 or mes == 7 or mes == 8 or mes == 10 or mes == 12) and data <=31):\n",
        "    print(\"Data válida!\")\n",
        "  #abril, junho, setembro e novembro\n",
        "  elif((mes == 4 or mes == 6 or mes == 9 or mes == 11) and dia <= 30 ):\n",
        "    print(\"Data válida\")\n",
        "  #caso do mês de fevereiro\n",
        "  elif((mes == 2 and bissexto and dia <= 29) or (mes == 2 and (not bissexto) and dia <=28) ):\n",
        "    print(\"Data válida!\")\n",
        "  else:\n",
        "    print(\"Data inválida!\")"
      ],
      "metadata": {
        "colab": {
          "base_uri": "https://localhost:8080/"
        },
        "id": "5zIhqNkSI9zr",
        "outputId": "f4aa29b2-af4b-4349-af67-7cac081cc386"
      },
      "execution_count": null,
      "outputs": [
        {
          "output_type": "stream",
          "name": "stdout",
          "text": [
            "Informe uma data (dd/mm/aaaa): 29/02/1991\n",
            "Data inválida!\n"
          ]
        }
      ]
    },
    {
      "cell_type": "code",
      "source": [
        "#5. Faça um Programa que leia um número e exiba o dia correspondente da semana. \n",
        "#(1-Domingo, 2- Segunda, etc.), se digitar outro valor deve aparecer valor inválido.\n",
        "\n",
        "semana = ['Domingo','Segunda','Terça','Quarta','Quinta','Sexta','Sábado']\n",
        "\n",
        "numero = int(input(\"Informe um número: \"))\n",
        "if(numero < 1 or numero > 7 ):\n",
        "  print(\"Valor inválido. Deve estar compreendido entre 1 e 7\")\n",
        "else:\n",
        "  print(f\"O dia correspondente da semana é: {semana[numero-1]}\" )"
      ],
      "metadata": {
        "colab": {
          "base_uri": "https://localhost:8080/"
        },
        "id": "YoZCQcViOKZE",
        "outputId": "1141f742-9db3-409b-9f5a-06f872a02eeb"
      },
      "execution_count": null,
      "outputs": [
        {
          "output_type": "stream",
          "name": "stdout",
          "text": [
            "Informe um número: 7\n",
            "O dia correspondente da semana é: Sábado\n"
          ]
        }
      ]
    }
  ]
}