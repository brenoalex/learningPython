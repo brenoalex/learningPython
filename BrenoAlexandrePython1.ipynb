{
  "nbformat": 4,
  "nbformat_minor": 0,
  "metadata": {
    "colab": {
      "name": "BrenoAlexandrePython1.ipynb",
      "provenance": [],
      "authorship_tag": "ABX9TyMqEO5CDcWOapl8YFdm/uMd",
      "include_colab_link": true
    },
    "kernelspec": {
      "name": "python3",
      "display_name": "Python 3"
    },
    "language_info": {
      "name": "python"
    }
  },
  "cells": [
    {
      "cell_type": "markdown",
      "metadata": {
        "id": "view-in-github",
        "colab_type": "text"
      },
      "source": [
        "<a href=\"https://colab.research.google.com/github/brenoalex/learningPython/blob/main/BrenoAlexandrePython1.ipynb\" target=\"_parent\"><img src=\"https://colab.research.google.com/assets/colab-badge.svg\" alt=\"Open In Colab\"/></a>"
      ]
    },
    {
      "cell_type": "code",
      "execution_count": null,
      "metadata": {
        "colab": {
          "base_uri": "https://localhost:8080/"
        },
        "id": "-u2BGngtrveR",
        "outputId": "f4e89318-1298-437a-fffd-ee06432805ce"
      },
      "outputs": [
        {
          "output_type": "stream",
          "name": "stdout",
          "text": [
            "\"\"\n"
          ]
        }
      ],
      "source": [
        "#1. Faça um programa que mostre a mensagem \"\" na tela\n",
        "print('\"\"')"
      ]
    },
    {
      "cell_type": "code",
      "source": [
        "#2. Faça um programa que peça um número e então mostre a mensagem O número informado foi [número].\n",
        "\n",
        "numero = int(input(\"Informe um número: \"))\n",
        "print(f'O número informado foi {numero}')"
      ],
      "metadata": {
        "colab": {
          "base_uri": "https://localhost:8080/"
        },
        "id": "sqsVDTUQ8Cue",
        "outputId": "05926679-5fdb-405f-829a-ba6d407f17d3"
      },
      "execution_count": null,
      "outputs": [
        {
          "output_type": "stream",
          "name": "stdout",
          "text": [
            "Informe um número: 15\n",
            "O número informado foi 15\n"
          ]
        }
      ]
    },
    {
      "cell_type": "code",
      "source": [
        "#3. Faça um programa que peça dois números e imprima a soma\n",
        "\n",
        "numero1 = int(input(\"Informe um primeiro número: \"))\n",
        "numero2 = int(input(\"Informe um segundo número: \"))\n",
        "\n",
        "print(f'A soma de {numero1} e {numero2} é {numero1 + numero2}')"
      ],
      "metadata": {
        "colab": {
          "base_uri": "https://localhost:8080/"
        },
        "id": "99nP88Ut82II",
        "outputId": "875ebf7e-30cf-47e1-8209-044794ed9e47"
      },
      "execution_count": null,
      "outputs": [
        {
          "output_type": "stream",
          "name": "stdout",
          "text": [
            "Informe um primeiro número: 13\n",
            "Informe um segundo número: 5\n",
            "A soma do 13 e 5 é 18\n"
          ]
        }
      ]
    },
    {
      "cell_type": "code",
      "source": [
        "#4. Faça um programa que peça as 4 notas bimestrais e mostre a média.\n",
        "\n",
        "nota1 = int(input(\"Informe a primeira nota: \"))\n",
        "nota2 = int(input(\"Informe a segunda nota: \"))\n",
        "nota3 = int(input(\"Informe a terceira nota: \"))\n",
        "nota4 = int(input(\"Informe a quarta nota: \"))\n",
        "\n",
        "media = (nota1 + nota2 + nota3 + nota4)/4\n",
        "print(f'A média resultante do aluno foi {media}')"
      ],
      "metadata": {
        "colab": {
          "base_uri": "https://localhost:8080/"
        },
        "id": "0lh-ae0q9Des",
        "outputId": "6fe8088a-eec7-4de7-dd0e-cf2385cff34f"
      },
      "execution_count": null,
      "outputs": [
        {
          "output_type": "stream",
          "name": "stdout",
          "text": [
            "Informe a primeira nota: 5\n",
            "Informe a segunda nota: 6\n",
            "Informe a terceira nota: 10\n",
            "Informe a quarta nota: 8\n",
            "A média resultante do aluno foi 7.25\n"
          ]
        }
      ]
    },
    {
      "cell_type": "code",
      "source": [
        "#5. Faça um programa que converta metros para centímetros.\n",
        "\n",
        "metros = float(input(\"Informe um número em centímetros. (utilize . para a casa decimal) \"))\n",
        "\n",
        "centimetros = metros*100\n",
        "\n",
        "print(f'O valor de {metros}m em centímetros é: {centimetros}')"
      ],
      "metadata": {
        "colab": {
          "base_uri": "https://localhost:8080/"
        },
        "id": "86LIHHU19xQS",
        "outputId": "81a04b8b-d3de-45cb-d917-3db62f3b2c57"
      },
      "execution_count": null,
      "outputs": [
        {
          "output_type": "stream",
          "name": "stdout",
          "text": [
            "Informe um número em centímetros. (utilize . para a casa decimal) 1.73\n",
            "O valor de 1.73m em centímetros é: 173.0\n"
          ]
        }
      ]
    },
    {
      "cell_type": "code",
      "source": [
        "#6. Faça um programa que peça o raio de um círculo, calcule e mostre sua área.\n",
        "\n",
        "raio = float(input(\"Informe o raio do círculo: \"))\n",
        "\n",
        "area = 3.1416*raio**2\n",
        "\n",
        "print(f'O valor da área do círculo de raio {raio} é {area}')"
      ],
      "metadata": {
        "colab": {
          "base_uri": "https://localhost:8080/"
        },
        "id": "mUDTuOnO-byP",
        "outputId": "9ab78d3e-729c-4a58-c8d3-347ff04a15d3"
      },
      "execution_count": null,
      "outputs": [
        {
          "output_type": "stream",
          "name": "stdout",
          "text": [
            "Informe o raio do círculo: 4\n",
            "O valor da área do círculo de raio 4.0 é 50.2656\n"
          ]
        }
      ]
    },
    {
      "cell_type": "code",
      "source": [
        "#7. Faça um programa que calcule a área de um quadrado, em seguida mostre o dobro desta área para o usuário.\n",
        "\n",
        "lado = float(input(\"Informe o lado de um quadrado: \"))\n",
        "\n",
        "area = lado*lado\n",
        "\n",
        "print(f'O dobro da área de um quadrado de lado {lado} é: {2*area}')"
      ],
      "metadata": {
        "colab": {
          "base_uri": "https://localhost:8080/"
        },
        "id": "CRIuCWU__FpL",
        "outputId": "d2507a62-5682-49b5-a0b8-e4e20ac8ca9c"
      },
      "execution_count": null,
      "outputs": [
        {
          "output_type": "stream",
          "name": "stdout",
          "text": [
            "Informe o lado de um quadrado: 3\n",
            "O dobro da área de um quadrado de lado 3.0 é: 18.0\n"
          ]
        }
      ]
    },
    {
      "cell_type": "code",
      "source": [
        "#8. Faça um programa que pergunte quanto você ganha por hora e o número de horas trabalhadas no mês. \n",
        "#Calcule e mostre o total do seu salário no referido mês.\n",
        "\n",
        "salario_por_hora = float(input('Informe quanto você ganha por hora: '))\n",
        "horas_trab_mes = int(input('Informe quantas horas foram trabalhadas no mês: '))\n",
        "\n",
        "salario_mes = salario_por_hora*horas_trab_mes\n",
        "\n",
        "print(f'O salário total do referido mês é: {salario_mes} reais.')"
      ],
      "metadata": {
        "colab": {
          "base_uri": "https://localhost:8080/"
        },
        "id": "bY4_GuEq_wyP",
        "outputId": "82b2b905-bbdb-44e9-fb1c-c82af015a305"
      },
      "execution_count": null,
      "outputs": [
        {
          "output_type": "stream",
          "name": "stdout",
          "text": [
            "Informe quanto você ganha por hora: 50\n",
            "Informe quantas horas foram trabalhadas no mês: 39\n",
            "O salário total do referido mês é: 1950.0\n"
          ]
        }
      ]
    },
    {
      "cell_type": "code",
      "source": [
        "#9.  Escreva um programa que substitui as ocorrencias de um caractere 0 em uma string por outro caractere 1.\n",
        "\n",
        "frase = input(\"Digite uma frase e substituirei os caracteres 0 por 1 \")\n",
        "\n",
        "print(\"A frase manipulada é:\", frase.replace('0','1') )\n"
      ],
      "metadata": {
        "colab": {
          "base_uri": "https://localhost:8080/"
        },
        "id": "azoChyzbAYCx",
        "outputId": "a60d8509-b083-4377-f358-22887b5139c9"
      },
      "execution_count": null,
      "outputs": [
        {
          "output_type": "stream",
          "name": "stdout",
          "text": [
            "Digite uma frase e substituirei os caracteres 0 por 1 0Oitudobom0qad0\n",
            "A frase manipulada é: 1Oitudobom1qad1\n"
          ]
        }
      ]
    },
    {
      "cell_type": "code",
      "source": [
        "#10. Faça um programa que receba do usuario uma string. O programa imprime a string sem suas vogais.\n",
        "\n",
        "frase = input(\"Digite uma frase e retirarei as vogais: \")\n",
        "frase = frase.lower()\n",
        "print(\"A frase manipulada é: \", frase.replace('a','').replace('e','').replace('i','').replace('o','').replace('u',''))"
      ],
      "metadata": {
        "colab": {
          "base_uri": "https://localhost:8080/"
        },
        "id": "qqjH2cOABLL7",
        "outputId": "f0f4f9e0-af5b-45b3-d634-9e350986b55e"
      },
      "execution_count": null,
      "outputs": [
        {
          "output_type": "stream",
          "name": "stdout",
          "text": [
            "Digite uma frase e retirarei as vogais: No danzel in distress, don't need to save me\n",
            "A frase manipulada é:  n dnzl n dstrss, dn't nd t sv m\n"
          ]
        }
      ]
    }
  ]
}